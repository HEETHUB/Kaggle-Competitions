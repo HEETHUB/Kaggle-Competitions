{
 "cells": [
  {
   "cell_type": "markdown",
   "metadata": {},
   "source": [
    "<div style=\"width:100%;text-align: center;\"> <img align=middle src=\"https://media.wired.com/photos/5926583dcfe0d93c4742fde3/master/w_2560%2Cc_limit/Alzheimers_TA.gif\" alt=\"Heat beating\" style=\"height:366px;margin-top:3rem;\"> </div>"
   ]
  },
  {
   "cell_type": "code",
   "execution_count": null,
   "metadata": {},
   "outputs": [],
   "source": []
  },
  {
   "cell_type": "markdown",
   "metadata": {},
   "source": [
    "# <span style='color:aliceblue'><center style='background:#002E94;border-radius:0px 25px;padding:25px'> 🧠Alzheimer Classification with MRI Images </center></span>"
   ]
  },
  {
   "cell_type": "markdown",
   "metadata": {},
   "source": [
    "# **<span style=\"color:#FF731D;\">📰About the Dataset</span>**\n",
    "\n",
    "A progressive disease that destroys memory and other important mental functions.\n",
    "Brain cell connections and the cells themselves degenerate and die, eventually destroying memory and other important mental functions.\n",
    "\n",
    "Memory loss and confusion are the main symptoms.\n",
    "No cure exists, but medication and management strategies may temporarily improve symptoms.\n",
    "\n",
    "The data consists of MRI images. The data has four classes of images both in training as well as a testing set:\n",
    "\n",
    "> Mild Demented\n",
    "\n",
    "> Moderate Demented\n",
    "\n",
    "> Non Demented\n",
    "\n",
    "> Very Mild Demented"
   ]
  },
  {
   "cell_type": "code",
   "execution_count": 1,
   "metadata": {
    "execution": {
     "iopub.execute_input": "2022-10-10T16:25:24.320726Z",
     "iopub.status.busy": "2022-10-10T16:25:24.32001Z",
     "iopub.status.idle": "2022-10-10T16:25:24.325433Z",
     "shell.execute_reply": "2022-10-10T16:25:24.324483Z",
     "shell.execute_reply.started": "2022-10-10T16:25:24.320691Z"
    }
   },
   "outputs": [],
   "source": [
    "#Environment check\n",
    "import os\n",
    "import warnings\n",
    "warnings.filterwarnings(\"ignore\")"
   ]
  },
  {
   "cell_type": "code",
   "execution_count": null,
   "metadata": {
    "execution": {
     "iopub.execute_input": "2022-10-10T16:25:24.615939Z",
     "iopub.status.busy": "2022-10-10T16:25:24.615249Z",
     "iopub.status.idle": "2022-10-10T16:25:24.623164Z",
     "shell.execute_reply": "2022-10-10T16:25:24.621978Z",
     "shell.execute_reply.started": "2022-10-10T16:25:24.615905Z"
    }
   },
   "outputs": [],
   "source": [
    "#Imports\n",
    "import pandas as pd\n",
    "import numpy as np\n",
    "import tensorflow as tf\n",
    "from tensorflow import keras\n",
    "from tensorflow.keras import layers,models\n",
    "from tensorflow.keras.preprocessing import image\n",
    "from tensorflow.keras.preprocessing.image import ImageDataGenerator\n",
    "from tensorflow.keras.models import Sequential\n",
    "from tensorflow.keras.layers import Conv2D, Flatten, MaxPooling2D, Dense, Dropout, GlobalAveragePooling2D\n",
    "from tensorflow.keras import optimizers, losses\n",
    "import seaborn as sns\n",
    "import matplotlib.pyplot as plt\n",
    "\n",
    "# System libraries\n",
    "from pathlib import Path\n",
    "import os.path\n",
    "\n",
    "# Metrics\n",
    "from sklearn.metrics import classification_report, confusion_matrix\n",
    "import itertools"
   ]
  },
  {
   "cell_type": "markdown",
   "metadata": {},
   "source": [
    "# **<span style=\"color:#FF731D;\">📰Get Data </span>**"
   ]
  },
  {
   "cell_type": "code",
   "execution_count": null,
   "metadata": {
    "execution": {
     "iopub.execute_input": "2022-10-10T16:33:09.602172Z",
     "iopub.status.busy": "2022-10-10T16:33:09.601802Z",
     "iopub.status.idle": "2022-10-10T16:33:09.606857Z",
     "shell.execute_reply": "2022-10-10T16:33:09.605908Z",
     "shell.execute_reply.started": "2022-10-10T16:33:09.602141Z"
    }
   },
   "outputs": [],
   "source": [
    "data = \"../input/augmented-alzheimer-mri-dataset/AugmentedAlzheimerDataset\""
   ]
  },
  {
   "cell_type": "code",
   "execution_count": null,
   "metadata": {
    "execution": {
     "iopub.execute_input": "2022-10-10T16:33:10.182396Z",
     "iopub.status.busy": "2022-10-10T16:33:10.182009Z",
     "iopub.status.idle": "2022-10-10T16:33:18.862411Z",
     "shell.execute_reply": "2022-10-10T16:33:18.861446Z",
     "shell.execute_reply.started": "2022-10-10T16:33:10.182363Z"
    }
   },
   "outputs": [],
   "source": [
    "image_dir = Path(data)\n",
    "\n",
    "# Get filepaths and labels\n",
    "filepaths = list(image_dir.glob(r'**/*.JPG')) + list(image_dir.glob(r'**/*.jpg')) \n",
    "\n",
    "labels = list(map(lambda x: os.path.split(os.path.split(x)[0])[1], filepaths))\n",
    "\n",
    "filepaths = pd.Series(filepaths, name='Filepath').astype(str)\n",
    "labels = pd.Series(labels, name='Label')\n",
    "\n",
    "# Concatenate filepaths and labels\n",
    "image_df = pd.concat([filepaths, labels], axis=1)"
   ]
  },
  {
   "cell_type": "code",
   "execution_count": null,
   "metadata": {
    "execution": {
     "iopub.execute_input": "2022-10-10T16:33:18.864621Z",
     "iopub.status.busy": "2022-10-10T16:33:18.864256Z",
     "iopub.status.idle": "2022-10-10T16:33:48.385641Z",
     "shell.execute_reply": "2022-10-10T16:33:48.38465Z",
     "shell.execute_reply.started": "2022-10-10T16:33:18.864586Z"
    }
   },
   "outputs": [],
   "source": [
    "import PIL\n",
    "from pathlib import Path\n",
    "from PIL import UnidentifiedImageError\n",
    "\n",
    "path = Path(\"../input/augmented-alzheimer-mri-dataset/AugmentedAlzheimerDataset\").rglob(\"*.jpg\")\n",
    "for img_p in path:\n",
    "    try:\n",
    "        img = PIL.Image.open(img_p)\n",
    "    except PIL.UnidentifiedImageError:\n",
    "            print(img_p)"
   ]
  },
  {
   "cell_type": "code",
   "execution_count": null,
   "metadata": {
    "execution": {
     "iopub.execute_input": "2022-10-10T16:33:48.387446Z",
     "iopub.status.busy": "2022-10-10T16:33:48.387081Z",
     "iopub.status.idle": "2022-10-10T16:33:48.399992Z",
     "shell.execute_reply": "2022-10-10T16:33:48.398844Z",
     "shell.execute_reply.started": "2022-10-10T16:33:48.387407Z"
    }
   },
   "outputs": [],
   "source": [
    "image_df"
   ]
  },
  {
   "cell_type": "code",
   "execution_count": null,
   "metadata": {
    "execution": {
     "iopub.execute_input": "2022-10-10T16:33:48.404105Z",
     "iopub.status.busy": "2022-10-10T16:33:48.402867Z",
     "iopub.status.idle": "2022-10-10T16:33:49.324994Z",
     "shell.execute_reply": "2022-10-10T16:33:49.324186Z",
     "shell.execute_reply.started": "2022-10-10T16:33:48.404062Z"
    }
   },
   "outputs": [],
   "source": [
    "# Display 16 picture of the dataset with their labels\n",
    "random_index = np.random.randint(0, len(image_df), 16)\n",
    "fig, axes = plt.subplots(nrows=4, ncols=4, figsize=(10, 10),\n",
    "                        subplot_kw={'xticks': [], 'yticks': []})\n",
    "\n",
    "for i, ax in enumerate(axes.flat):\n",
    "    ax.imshow(plt.imread(image_df.Filepath[random_index[i]]))\n",
    "    ax.set_title(image_df.Label[random_index[i]])\n",
    "plt.tight_layout()\n",
    "plt.show()"
   ]
  },
  {
   "cell_type": "code",
   "execution_count": null,
   "metadata": {
    "execution": {
     "iopub.execute_input": "2022-10-10T16:33:49.32703Z",
     "iopub.status.busy": "2022-10-10T16:33:49.326488Z",
     "iopub.status.idle": "2022-10-10T16:33:49.331851Z",
     "shell.execute_reply": "2022-10-10T16:33:49.331085Z",
     "shell.execute_reply.started": "2022-10-10T16:33:49.326996Z"
    }
   },
   "outputs": [],
   "source": [
    "train_datagen = ImageDataGenerator(rescale=1./255,\n",
    "    validation_split=0.2) # set validation split"
   ]
  },
  {
   "cell_type": "code",
   "execution_count": null,
   "metadata": {
    "execution": {
     "iopub.execute_input": "2022-10-10T16:33:49.333718Z",
     "iopub.status.busy": "2022-10-10T16:33:49.333178Z",
     "iopub.status.idle": "2022-10-10T16:33:51.336512Z",
     "shell.execute_reply": "2022-10-10T16:33:51.335498Z",
     "shell.execute_reply.started": "2022-10-10T16:33:49.333686Z"
    }
   },
   "outputs": [],
   "source": [
    "train_images = train_datagen.flow_from_directory(\n",
    "    data,\n",
    "    target_size=(224, 224),\n",
    "    batch_size=32,\n",
    "    class_mode='categorical',\n",
    "    subset='training') # set as training data\n",
    "\n",
    "validation_images = train_datagen.flow_from_directory(\n",
    "    data , # same directory as training data\n",
    "    target_size=(224, 224),\n",
    "    batch_size=32,\n",
    "    class_mode='categorical',\n",
    "    subset='validation') # set as validation data\n",
    "\n"
   ]
  },
  {
   "cell_type": "markdown",
   "metadata": {},
   "source": [
    "# **<span style=\"color:#FF731D;\">🌟Let's try CNN Model</span>**"
   ]
  },
  {
   "cell_type": "code",
   "execution_count": null,
   "metadata": {
    "execution": {
     "iopub.execute_input": "2022-10-10T16:33:51.338489Z",
     "iopub.status.busy": "2022-10-10T16:33:51.338115Z",
     "iopub.status.idle": "2022-10-10T16:33:51.407748Z",
     "shell.execute_reply": "2022-10-10T16:33:51.406841Z",
     "shell.execute_reply.started": "2022-10-10T16:33:51.338453Z"
    }
   },
   "outputs": [],
   "source": [
    "model = tf.keras.models.Sequential([\n",
    "    Conv2D(16, (3,3), activation = 'relu', input_shape = (224,224, 3)),\n",
    "    MaxPooling2D(2,2),\n",
    "    Conv2D(32, (3,3), activation = 'relu'),\n",
    "    MaxPooling2D(2,2),\n",
    "    Conv2D(32, (3,3), activation = 'relu'),\n",
    "    MaxPooling2D(2,2),\n",
    "    Conv2D(32, (3,3), activation = 'relu'),\n",
    "    MaxPooling2D(2,2),\n",
    "    Flatten(),\n",
    "    Dense(512, activation = 'relu'),\n",
    "    Dropout(0.2),\n",
    "    Dense(4, activation = 'softmax')\n",
    "])\n",
    "\n"
   ]
  },
  {
   "cell_type": "code",
   "execution_count": null,
   "metadata": {
    "execution": {
     "iopub.execute_input": "2022-10-10T17:04:08.971917Z",
     "iopub.status.busy": "2022-10-10T17:04:08.971532Z",
     "iopub.status.idle": "2022-10-10T17:16:42.757711Z",
     "shell.execute_reply": "2022-10-10T17:16:42.75671Z",
     "shell.execute_reply.started": "2022-10-10T17:04:08.971886Z"
    }
   },
   "outputs": [],
   "source": [
    "model.compile(loss = 'categorical_crossentropy', optimizer = tf.keras.optimizers.Adam(), metrics = ['accuracy'])\n",
    "history = model.fit(train_images,\n",
    "    steps_per_epoch=len(train_images),\n",
    "    validation_data=validation_images,\n",
    "    validation_steps=len(validation_images),\n",
    "    epochs=10)"
   ]
  },
  {
   "cell_type": "markdown",
   "metadata": {},
   "source": [
    "***Model is overfitting***"
   ]
  },
  {
   "cell_type": "code",
   "execution_count": null,
   "metadata": {
    "execution": {
     "iopub.execute_input": "2022-10-10T17:16:42.76167Z",
     "iopub.status.busy": "2022-10-10T17:16:42.761053Z",
     "iopub.status.idle": "2022-10-10T17:16:42.960092Z",
     "shell.execute_reply": "2022-10-10T17:16:42.959197Z",
     "shell.execute_reply.started": "2022-10-10T17:16:42.761639Z"
    }
   },
   "outputs": [],
   "source": [
    "#Accuracy\n",
    "plt.plot(history.history['accuracy'])\n",
    "plt.plot(history.history['val_accuracy'])\n",
    "plt.title('model accuracy')\n",
    "plt.ylabel('accuracy')\n",
    "plt.xlabel('epoch')\n",
    "plt.legend(['train', 'val'], loc='upper left')\n",
    "plt.show()"
   ]
  },
  {
   "cell_type": "code",
   "execution_count": null,
   "metadata": {
    "execution": {
     "iopub.execute_input": "2022-10-10T17:16:42.961697Z",
     "iopub.status.busy": "2022-10-10T17:16:42.96135Z",
     "iopub.status.idle": "2022-10-10T17:16:43.159183Z",
     "shell.execute_reply": "2022-10-10T17:16:43.158192Z",
     "shell.execute_reply.started": "2022-10-10T17:16:42.961663Z"
    }
   },
   "outputs": [],
   "source": [
    "# loss\n",
    "plt.plot(history.history['loss'])\n",
    "plt.plot(history.history['val_loss'])\n",
    "plt.title('model loss')\n",
    "plt.ylabel('loss')\n",
    "plt.xlabel('epoch')\n",
    "plt.legend(['train', 'val'], loc='upper left')\n",
    "plt.show()"
   ]
  },
  {
   "cell_type": "markdown",
   "metadata": {},
   "source": [
    "# **<span style=\"color:#FF731D;\">🌟Let's try Inception Model (Transfer Learning)</span>**"
   ]
  },
  {
   "cell_type": "code",
   "execution_count": null,
   "metadata": {
    "execution": {
     "iopub.execute_input": "2022-10-10T16:46:25.140072Z",
     "iopub.status.busy": "2022-10-10T16:46:25.13968Z",
     "iopub.status.idle": "2022-10-10T16:46:27.838422Z",
     "shell.execute_reply": "2022-10-10T16:46:27.83744Z",
     "shell.execute_reply.started": "2022-10-10T16:46:25.140035Z"
    }
   },
   "outputs": [],
   "source": [
    "inception_model = Sequential()\n",
    "\n",
    "pretrained_model= tf.keras.applications.InceptionV3(include_top=False,\n",
    "                   input_shape=(224,224,3),\n",
    "                   pooling='avg',classes=4,\n",
    "                   weights='imagenet')\n",
    "for layer in pretrained_model.layers:\n",
    "        layer.trainable=False\n",
    "\n",
    "inception_model.add(pretrained_model)"
   ]
  },
  {
   "cell_type": "code",
   "execution_count": null,
   "metadata": {
    "execution": {
     "iopub.execute_input": "2022-10-10T16:46:27.842419Z",
     "iopub.status.busy": "2022-10-10T16:46:27.841588Z",
     "iopub.status.idle": "2022-10-10T16:46:27.868015Z",
     "shell.execute_reply": "2022-10-10T16:46:27.867188Z",
     "shell.execute_reply.started": "2022-10-10T16:46:27.84238Z"
    }
   },
   "outputs": [],
   "source": [
    "inception_model.add(Flatten())\n",
    "inception_model.add(Dense(512, activation='relu'))\n",
    "inception_model.add(Dropout(0.2))\n",
    "inception_model.add(Dense(4, activation='softmax'))"
   ]
  },
  {
   "cell_type": "code",
   "execution_count": null,
   "metadata": {
    "execution": {
     "iopub.execute_input": "2022-10-10T16:46:27.869771Z",
     "iopub.status.busy": "2022-10-10T16:46:27.869431Z",
     "iopub.status.idle": "2022-10-10T16:46:27.887602Z",
     "shell.execute_reply": "2022-10-10T16:46:27.886614Z",
     "shell.execute_reply.started": "2022-10-10T16:46:27.869738Z"
    }
   },
   "outputs": [],
   "source": [
    "inception_model.summary()"
   ]
  },
  {
   "cell_type": "code",
   "execution_count": null,
   "metadata": {
    "execution": {
     "iopub.execute_input": "2022-10-10T16:46:27.889362Z",
     "iopub.status.busy": "2022-10-10T16:46:27.888989Z",
     "iopub.status.idle": "2022-10-10T17:01:36.841433Z",
     "shell.execute_reply": "2022-10-10T17:01:36.840138Z",
     "shell.execute_reply.started": "2022-10-10T16:46:27.889329Z"
    }
   },
   "outputs": [],
   "source": [
    "inception_model.compile(loss = 'categorical_crossentropy', optimizer = tf.keras.optimizers.Adam(), metrics = ['accuracy'])\n",
    "\n",
    "history = inception_model.fit(train_images,\n",
    "    steps_per_epoch=len(train_images),\n",
    "    validation_data=validation_images,\n",
    "    validation_steps=len(validation_images),\n",
    "    epochs=10)"
   ]
  },
  {
   "cell_type": "code",
   "execution_count": null,
   "metadata": {
    "execution": {
     "iopub.execute_input": "2022-10-10T17:01:36.84404Z",
     "iopub.status.busy": "2022-10-10T17:01:36.843134Z",
     "iopub.status.idle": "2022-10-10T17:01:36.850344Z",
     "shell.execute_reply": "2022-10-10T17:01:36.849279Z",
     "shell.execute_reply.started": "2022-10-10T17:01:36.844Z"
    }
   },
   "outputs": [],
   "source": [
    "print(history.history.keys())"
   ]
  },
  {
   "cell_type": "code",
   "execution_count": null,
   "metadata": {
    "execution": {
     "iopub.execute_input": "2022-10-10T17:01:36.852902Z",
     "iopub.status.busy": "2022-10-10T17:01:36.851849Z",
     "iopub.status.idle": "2022-10-10T17:01:37.058118Z",
     "shell.execute_reply": "2022-10-10T17:01:37.057204Z",
     "shell.execute_reply.started": "2022-10-10T17:01:36.852867Z"
    }
   },
   "outputs": [],
   "source": [
    "#Accuracy\n",
    "plt.plot(history.history['accuracy'])\n",
    "plt.plot(history.history['val_accuracy'])\n",
    "plt.title('model accuracy')\n",
    "plt.ylabel('accuracy')\n",
    "plt.xlabel('epoch')\n",
    "plt.legend(['train', 'val'], loc='upper left')\n",
    "plt.show()"
   ]
  },
  {
   "cell_type": "code",
   "execution_count": null,
   "metadata": {
    "execution": {
     "iopub.execute_input": "2022-10-10T17:01:37.060137Z",
     "iopub.status.busy": "2022-10-10T17:01:37.059746Z",
     "iopub.status.idle": "2022-10-10T17:01:37.247208Z",
     "shell.execute_reply": "2022-10-10T17:01:37.246216Z",
     "shell.execute_reply.started": "2022-10-10T17:01:37.060101Z"
    }
   },
   "outputs": [],
   "source": [
    "# loss\n",
    "plt.plot(history.history['loss'])\n",
    "plt.plot(history.history['val_loss'])\n",
    "plt.title('model loss')\n",
    "plt.ylabel('loss')\n",
    "plt.xlabel('epoch')\n",
    "plt.legend(['train', 'val'], loc='upper left')\n",
    "plt.show()"
   ]
  },
  {
   "cell_type": "markdown",
   "metadata": {},
   "source": [
    "# **<span style=\"color:#DA291C;\">🤘Conclusion</span>**\n",
    "\n",
    "> **This marks the end of 🧠Alzheimer Classification with MRI Images**\n",
    "\n",
    "> **Stay Tuned for more..**\n",
    "\n",
    "> **Please share your feedback and suggestions and help me improve 😇**"
   ]
  }
 ],
 "metadata": {
  "kernelspec": {
   "display_name": "Python 3",
   "language": "python",
   "name": "python3"
  },
  "language_info": {
   "codemirror_mode": {
    "name": "ipython",
    "version": 3
   },
   "file_extension": ".py",
   "mimetype": "text/x-python",
   "name": "python",
   "nbconvert_exporter": "python",
   "pygments_lexer": "ipython3",
   "version": "3.8.2"
  }
 },
 "nbformat": 4,
 "nbformat_minor": 4
}
