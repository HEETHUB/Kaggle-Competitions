{
 "cells": [
  {
   "cell_type": "code",
   "execution_count": 36,
   "id": "64f0feb3",
   "metadata": {
    "scrolled": true
   },
   "outputs": [
    {
     "name": "stderr",
     "output_type": "stream",
     "text": [
      "/Users/heetaecho/opt/anaconda3/lib/python3.9/site-packages/xgboost/data.py:250: FutureWarning: pandas.Int64Index is deprecated and will be removed from pandas in a future version. Use pandas.Index with the appropriate dtype instead.\n",
      "  elif isinstance(data.columns, (pd.Int64Index, pd.RangeIndex)):\n",
      "/Users/heetaecho/opt/anaconda3/lib/python3.9/site-packages/xgboost/data.py:250: FutureWarning: pandas.Int64Index is deprecated and will be removed from pandas in a future version. Use pandas.Index with the appropriate dtype instead.\n",
      "  elif isinstance(data.columns, (pd.Int64Index, pd.RangeIndex)):\n"
     ]
    },
    {
     "name": "stdout",
     "output_type": "stream",
     "text": [
      "0.8095812262297821\n"
     ]
    }
   ],
   "source": [
    "import pandas as pd\n",
    "from pandas import MultiIndex, Int16Dtype\n",
    "import numpy as np\n",
    "\n",
    "# Data loading\n",
    "train = pd.read_csv('train.csv')\n",
    "test = pd.read_csv('test.csv')\n",
    "test_Id = test.PassengerId\n",
    "\n",
    "# Data Preprocessing\n",
    "train = train.drop(columns=['PassengerId', 'Name', 'Age'])\n",
    "test = test.drop(columns=['PassengerId', 'Name', 'Age'])\n",
    "\n",
    "test['RoomService'] = test['RoomService'].fillna(0)\n",
    "test['FoodCourt'] = test['FoodCourt'].fillna(0)\n",
    "test['ShoppingMall'] = test['ShoppingMall'].fillna(0)\n",
    "test['Spa'] = test['Spa'].fillna(0)\n",
    "test['VRDeck'] = test['VRDeck'].fillna(0)\n",
    "test = test.fillna(method='bfill')\n",
    "\n",
    "train = train.dropna().reset_index(drop=True)\n",
    "train['Cabin_Deck'] = train.Cabin.apply(lambda x: x[0])\n",
    "train['Cabin_Port'] = train.Cabin.apply(lambda x: x[-1])\n",
    "train = train.drop(columns=['Cabin'])\n",
    "test['Cabin_Deck'] = test.Cabin.apply(lambda x: x[0])\n",
    "test['Cabin_Port'] = test.Cabin.apply(lambda x: x[-1])\n",
    "test = test.drop(columns=['Cabin'])\n",
    "port_dummies = pd.get_dummies(train['Cabin_Port']).rename(columns={'P':'Cabin_Port_P', 'S':'Cabin_Port_S'})\n",
    "train = pd.concat([train, port_dummies], axis=1)\n",
    "train = train.drop(columns=['Cabin_Port'])\n",
    "port_dummies = pd.get_dummies(test['Cabin_Port']).rename(columns={'P':'Cabin_Port_P', 'S':'Cabin_Port_S'})\n",
    "test = pd.concat([test, port_dummies], axis=1)\n",
    "test = test.drop(columns=['Cabin_Port'])\n",
    "\n",
    "from sklearn.preprocessing import LabelEncoder\n",
    "encoder = LabelEncoder()\n",
    "train['Cabin_Deck'] = encoder.fit_transform(train['Cabin_Deck'])\n",
    "train['Destination'] = encoder.fit_transform(train['Destination'])\n",
    "train['VIP'] = encoder.fit_transform(train['VIP'])\n",
    "train['HomePlanet'] = encoder.fit_transform(train['HomePlanet'])\n",
    "train['CryoSleep'] = encoder.fit_transform(train['CryoSleep'])\n",
    "train['Transported'] = encoder.fit_transform(train['Transported'])\n",
    "\n",
    "test['Cabin_Deck'] = encoder.fit_transform(test['Cabin_Deck'])\n",
    "test['Destination'] = encoder.fit_transform(test['Destination'])\n",
    "test['VIP'] = encoder.fit_transform(test['VIP'])\n",
    "test['HomePlanet'] = encoder.fit_transform(test['HomePlanet'])\n",
    "test['CryoSleep'] = encoder.fit_transform(test['CryoSleep'])\n",
    "x_train = train.drop(columns=['Transported'])\n",
    "y_train = train[['Transported']]\n",
    "\n",
    "# modeling\n",
    "from xgboost import XGBClassifier\n",
    "model = XGBClassifier(eval_metric='error', max_depth=2, use_label_encoder=False)\n",
    "model.fit(x_train, y_train)\n",
    "y_test_predicted = pd.DataFrame(model.predict(test)).rename(columns={0:'Transported'})\n",
    "y_test_predicted = y_test_predicted.replace({1.0:'True', 0.0:'False'})\n",
    "final = pd.concat([test_Id, y_test_predicted],axis=1)\n",
    "\n",
    "# evaluation\n",
    "from sklearn.model_selection import train_test_split\n",
    "X_TRAIN,X_TEST,Y_TRAIN,Y_TEST = train_test_split(x_train, y_train, test_size=0.2, random_state=10)\n",
    "model.fit(X_TRAIN,Y_TRAIN)\n",
    "Y_PREDICTED = pd.DataFrame(model.predict(X_TEST)).rename(columns={0:'Y_PREDICTED'})\n",
    "\n",
    "from sklearn.metrics import roc_auc_score\n",
    "Y_TEST = Y_TEST.reset_index(drop=True)\n",
    "print(roc_auc_score(Y_TEST, Y_PREDICTED))\n",
    "\n",
    "#  saving\n",
    "final.to_csv('submission.csv', index=False)"
   ]
  }
 ],
 "metadata": {
  "kernelspec": {
   "display_name": "Python 3 (ipykernel)",
   "language": "python",
   "name": "python3"
  },
  "language_info": {
   "codemirror_mode": {
    "name": "ipython",
    "version": 3
   },
   "file_extension": ".py",
   "mimetype": "text/x-python",
   "name": "python",
   "nbconvert_exporter": "python",
   "pygments_lexer": "ipython3",
   "version": "3.9.13"
  }
 },
 "nbformat": 4,
 "nbformat_minor": 5
}
